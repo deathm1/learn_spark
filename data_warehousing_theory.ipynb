{
 "cells": [
  {
   "cell_type": "markdown",
   "metadata": {},
   "source": [
    "# Data Lake and Delta Lake\n",
    "\n",
    "- Data Lake: A data lake is a centralized repository that allows you to store all your structured and unstructured data at any scale. It can store data in its raw, unprocessed form and supports a variety of data types, including relational data, log files, images, and more.\n",
    "\n",
    "- Delta Lake: Delta Lake is an open-source storage layer that brings ACID (Atomicity, Consistency, Isolation, Durability) transactions to Apache Spark and big data workloads. It is designed to bring reliability to data lakes by providing features like ACID transactions, schema enforcement, and time travel.\n"
   ]
  },
  {
   "cell_type": "markdown",
   "metadata": {},
   "source": [
    "# Difference between Data Lake and Delta Lake\n",
    "\n",
    "| Parameters                              | Delta Lake                                                                                                                          | Data Lake                                                                                                                                                                                                                                                                |\n",
    "| --------------------------------------- | ----------------------------------------------------------------------------------------------------------------------------------- | ------------------------------------------------------------------------------------------------------------------------------------------------------------------------------------------------------------------------------------------------------------------------ |\n",
    "| Data Consistency and ACID Transactions  | Traditional data lakes often struggle with data consistency, as they lack built-in transactional support.                           | In contrast, Delta Lake provides ACID transactions, ensuring that data changes are either fully applied or fully rolled back, maintaining the integrity of the data.                                                                                                     |\n",
    "| Schema Evolution and Evolution Tracking | In traditional data lakes, schema evolution can be challenging and often requires complex ETL processes.                            | Delta Lake simplifies schema evolution by allowing you to add, modify, or delete columns in a table without disrupting data pipelines.                                                                                                                                   |\n",
    "| Performance and Optimization            | Traditional data lakes may suffer from performance issues as data volumes grow, primarily due to the lack of optimization features. | Delta Lake addresses this challenge by implementing optimization techniques like data compaction and indexing. These optimizations significantly improve query performance, making Delta Lake a compelling choice for organizations with demanding analytical workloads. |\n",
    "| Data Lake Storage Costs                 | The cost of storing data in a data lake can be substantial, especially when dealing with large-scale datasets.                      | Delta Lake adopts a cost-effective approach by using file formats that reduce storage costs and improve compression.                                                                                                                                                     |\n",
    "| Data Quality and Data Governance        | Traditional data lakes may lack robust mechanisms for data quality checks and governance.                                           | Delta Lake incorporates features for data validation and governance, helping organizations maintain data quality and meet regulatory requirements effectively.                                                                                                           |\n"
   ]
  },
  {
   "cell_type": "markdown",
   "metadata": {},
   "source": [
    "# Examples of Data Lake\n",
    "\n",
    "ADLS typically refers to Azure Data Lake Storage, which is a cloud-based storage service provided by Microsoft Azure. Azure Data Lake Storage is designed to enable big data analytics and is integrated with various Azure services, making it a key component in Azure's data ecosystem.\n",
    "\n",
    "| Feature                    | Azure Data Lake Storage Gen1 (ADLS Gen1) | Azure Data Lake Storage Gen2 (ADLS Gen2)                                   |\n",
    "| -------------------------- | ---------------------------------------- | -------------------------------------------------------------------------- |\n",
    "| **Hierarchical Namespace** | Flat namespace; no directory structure   | Hierarchical namespace for efficient data organization                     |\n",
    "| **Security**               | - Authentication: Shared key, Azure AD   | - Authentication: Shared key, Azure AD, Azure AD Bearer Token              |\n",
    "|                            | - Authorization: POSIX-style ACLs        | - Authorization: POSIX-style ACLs, Azure Blob Storage-style RBAC           |\n",
    "| **Performance**            | - Good read and write performance        | - Improved metadata operations, enhanced parallelism                       |\n",
    "| **Integration**            | - Independent service                    | - Built on Azure Blob Storage platform, compatible with Azure Blob Storage |\n",
    "| **Storage Tiers**          | - N/A                                    | - Supports hot and cold storage tiers                                      |\n"
   ]
  },
  {
   "cell_type": "markdown",
   "metadata": {},
   "source": [
    "# Data Lake vs Data Warehouse vs Data Lakehouse\n",
    "\n",
    "| Feature                         | Data Lake                                                                                         | Data Warehouse                                                         | Data Lakehouse                                                                                      |\n",
    "| ------------------------------- | ------------------------------------------------------------------------------------------------- | ---------------------------------------------------------------------- | --------------------------------------------------------------------------------------------------- |\n",
    "| **Data Storage**                | Stores raw and unstructured data in its native format.                                            | Typically stores structured and processed data in tabular format.      | Stores both raw, unstructured data and structured, processed data.                                  |\n",
    "| **Schema**                      | Schema-on-read; supports schema flexibility.                                                      | Schema-on-write; enforces a predefined schema.                         | Supports both schema-on-read and schema-on-write.                                                   |\n",
    "| **Data Processing**             | Suited for big data processing and analytics using distributed computing frameworks.              | Optimized for complex SQL queries and analytics.                       | Combines big data processing capabilities with SQL analytics.                                       |\n",
    "| **Query Performance**           | May have slower query performance due to schema-on-read and raw data storage.                     | Offers fast query performance for structured data.                     | Combines the advantages of both Data Lake and Data Warehouse for balanced performance.              |\n",
    "| **Use Cases**                   | Ideal for storing large volumes of raw data for diverse analytics and machine learning use cases. | Best for structured, business-critical analytics and reporting.        | Suitable for both big data analytics and structured, ad-hoc queries.                                |\n",
    "| **Integration**                 | Integrates well with big data processing frameworks like Apache Spark, Hadoop.                    | Integrates with business intelligence tools and SQL-based analytics.   | Integrates with both big data processing frameworks and SQL analytics tools.                        |\n",
    "| **Cost Considerations**         | Generally more cost-effective for storing large volumes of raw data.                              | May have higher storage costs but optimized for query performance.     | Aims for a balance between cost-effective storage and optimized query performance.                  |\n",
    "| **Data Quality and Governance** | May lack built-in governance features; data quality checks may be challenging.                    | Typically includes features for data governance and quality assurance. | Incorporates data governance features, addressing concerns of both Data Lake and Data Warehouse.    |\n",
    "| **Transaction Support**         | Lacks built-in support for transactions.                                                          | Supports transactions for maintaining data consistency.                | Often includes transaction support, providing a middle ground between Data Lake and Data Warehouse. |\n",
    "| **Examples**                    | Azure Data Lake Storage, Amazon S3.                                                               | Amazon Redshift, Google BigQuery.                                      | Delta Lake, Databricks Delta, Snowflake.                                                            |\n"
   ]
  },
  {
   "cell_type": "markdown",
   "metadata": {},
   "source": [
    "# Difference Between Schema on Read vs Schema on Write\n",
    "\n",
    "| Feature                 | Schema on Read                                                                                           | Schema on Write                                                                                                  |\n",
    "| ----------------------- | -------------------------------------------------------------------------------------------------------- | ---------------------------------------------------------------------------------------------------------------- |\n",
    "| **Definition**          | Defines the schema when the data is read.                                                                | Requires defining the schema before writing data.                                                                |\n",
    "| **Flexibility**         | Offers flexibility to read different schemas from the same data.                                         | Less flexible as the schema is enforced during the write operation.                                              |\n",
    "| **Data Storage**        | Raw data is stored without a predefined structure.                                                       | Data is stored in a structured format with a predefined schema.                                                  |\n",
    "| **Processing Overhead** | Minimal processing overhead during data ingestion.                                                       | Higher processing overhead during data ingestion to enforce schema.                                              |\n",
    "| **Query Performance**   | May experience slower query performance since the schema is interpreted during read operations.          | Typically provides faster query performance as the schema is predefined and optimized for queries.               |\n",
    "| **Use Cases**           | Suited for scenarios where data formats may evolve, and flexibility in data interpretation is essential. | Ideal for scenarios where data consistency and query performance are critical, such as in business intelligence. |\n",
    "| **Data Evolution**      | Adapts well to changes in data structures over time.                                                     | May require additional steps to handle changes in data structures, potentially involving ETL processes.          |\n",
    "| **Data Quality**        | Offers less control over data quality during ingestion.                                                  | Provides better control over data quality by enforcing a predefined schema.                                      |\n",
    "| **Examples**            | Apache Parquet, JSON, Avro.                                                                              | Relational databases, SQL-based storage systems.                                                                 |\n",
    "| **Complexity**          | Generally simpler in terms of schema management.                                                         | Can be more complex due to schema enforcement and management.                                                    |\n",
    "| **Scalability**         | Suited for scalable storage of diverse data formats.                                                     | May face challenges with diverse data formats and evolving schemas at scale.                                     |\n",
    "| **Best Suited For**     | Data lakes with diverse, raw, and evolving data.                                                         | Data warehouses with structured, business-critical data.                                                         |\n"
   ]
  },
  {
   "cell_type": "markdown",
   "metadata": {},
   "source": [
    "# Delta Tables Hands on\n"
   ]
  },
  {
   "cell_type": "markdown",
   "metadata": {},
   "source": [
    "## Importing Libraries\n"
   ]
  },
  {
   "cell_type": "code",
   "execution_count": 1,
   "metadata": {},
   "outputs": [],
   "source": [
    "from delta import *\n",
    "from pyspark.sql import SparkSession\n",
    "\n",
    "from pyspark.sql.types import (\n",
    "\n",
    "    IntegerType,\n",
    "\n",
    "    LongType,\n",
    "\n",
    "    StructField,\n",
    "\n",
    "    StructType,\n",
    "\n",
    "    DateType,\n",
    "\n",
    "    DoubleType,\n",
    "\n",
    ")"
   ]
  },
  {
   "cell_type": "markdown",
   "metadata": {},
   "source": [
    "## Create a spark session.\n"
   ]
  },
  {
   "cell_type": "code",
   "execution_count": 2,
   "metadata": {},
   "outputs": [],
   "source": [
    "builder = (\n",
    "    SparkSession.builder.appName(\"learn_delta_lake\")\n",
    "    .config(\"spark.sql.extensions\", \"io.delta.sql.DeltaSparkSessionExtension\")\n",
    "    .config(\n",
    "        \"spark.sql.catalog.spark_catalog\",\n",
    "        \"org.apache.spark.sql.delta.catalog.DeltaCatalog\",\n",
    "    )\n",
    ")\n",
    "\n",
    "\n",
    "spark = configure_spark_with_delta_pip(builder).getOrCreate()"
   ]
  },
  {
   "cell_type": "markdown",
   "metadata": {},
   "source": [
    "## Generate Test Data\n"
   ]
  },
  {
   "cell_type": "code",
   "execution_count": 3,
   "metadata": {},
   "outputs": [],
   "source": [
    "my_custom_schema = StructType(\n",
    "    [\n",
    "        StructField(\"my_date\", DateType(), nullable=True),\n",
    "        StructField(\"open\", DoubleType(), nullable=True),\n",
    "        StructField(\"high\", DoubleType(), nullable=True),\n",
    "        StructField(\"low\", DoubleType(), nullable=True),\n",
    "        StructField(\"close\", DoubleType(), nullable=True),\n",
    "        StructField(\"volume\", IntegerType(), nullable=True),\n",
    "        StructField(\"adj_close\", DoubleType(), nullable=True),\n",
    "    ]\n",
    ")\n",
    "my_test_data_df = (\n",
    "    spark.read.schema(my_custom_schema)\n",
    "    .options(header=True)\n",
    "    .csv(\"./datasets/appl_stock.csv\")\n",
    ")"
   ]
  },
  {
   "cell_type": "code",
   "execution_count": 4,
   "metadata": {},
   "outputs": [
    {
     "name": "stdout",
     "output_type": "stream",
     "text": [
      "+----------+------------------+------------------+------------------+------------------+---------+------------------+\n",
      "|   my_date|              open|              high|               low|             close|   volume|         adj_close|\n",
      "+----------+------------------+------------------+------------------+------------------+---------+------------------+\n",
      "|2010-01-04|        213.429998|        214.499996|212.38000099999996|        214.009998|123432400|         27.727039|\n",
      "|2010-01-05|        214.599998|        215.589994|        213.249994|        214.379993|150476200|27.774976000000002|\n",
      "|2010-01-06|        214.379993|            215.23|        210.750004|        210.969995|138040000|27.333178000000004|\n",
      "|2010-01-07|            211.75|        212.000006|        209.050005|            210.58|119282800|          27.28265|\n",
      "|2010-01-08|        210.299994|        212.000006|209.06000500000002|211.98000499999998|111902700|         27.464034|\n",
      "|2010-01-11|212.79999700000002|        213.000002|        208.450005|210.11000299999998|115557400|         27.221758|\n",
      "|2010-01-12|209.18999499999998|209.76999500000002|        206.419998|        207.720001|148614900|          26.91211|\n",
      "|2010-01-13|        207.870005|210.92999500000002|        204.099998|        210.650002|151473000|          27.29172|\n",
      "|2010-01-14|210.11000299999998|210.45999700000002|        209.020004|            209.43|108223500|         27.133657|\n",
      "|2010-01-15|210.92999500000002|211.59999700000003|        205.869999|            205.93|148516900|26.680197999999997|\n",
      "|2010-01-19|        208.330002|215.18999900000003|        207.240004|        215.039995|182501900|27.860484999999997|\n",
      "|2010-01-20|        214.910006|        215.549994|        209.500002|            211.73|153038200|         27.431644|\n",
      "|2010-01-21|        212.079994|213.30999599999998|        207.210003|        208.069996|152038600|         26.957455|\n",
      "|2010-01-22|206.78000600000001|        207.499996|            197.16|            197.75|220441900|         25.620401|\n",
      "|2010-01-25|202.51000200000001|        204.699999|        200.190002|        203.070002|266424900|26.309658000000002|\n",
      "|2010-01-26|205.95000100000001|        213.710005|        202.580004|        205.940001|466777500|         26.681494|\n",
      "|2010-01-27|        206.849995|            210.58|        199.530001|        207.880005|430642100|26.932840000000002|\n",
      "|2010-01-28|        204.930004|        205.500004|        198.699995|        199.289995|293375600|25.819922000000002|\n",
      "|2010-01-29|        201.079996|        202.199995|        190.250002|        192.060003|311488100|         24.883208|\n",
      "|2010-02-01|192.36999699999998|             196.0|191.29999899999999|        194.729998|187469100|         25.229131|\n",
      "+----------+------------------+------------------+------------------+------------------+---------+------------------+\n",
      "only showing top 20 rows\n",
      "\n"
     ]
    }
   ],
   "source": [
    "my_test_data_df.show()"
   ]
  },
  {
   "cell_type": "markdown",
   "metadata": {},
   "source": [
    "## Write DataFrame as a Delta table\n",
    "\n",
    "| Feature                       | Delta Table                                      | Parquet Format                                          |\n",
    "| ----------------------------- | ------------------------------------------------ | ------------------------------------------------------- |\n",
    "| **ACID Transactions**         | Supports ACID transactions for data integrity.   | Does not support ACID transactions natively.            |\n",
    "| **Schema Evolution**          | Supports schema evolution for table evolution.   | Schema evolution is possible but limited.               |\n",
    "| **Time Travel**               | Supports time travel for querying past versions. | No built-in support for time travel.                    |\n",
    "| **Concurrency Control**       | Optimistic concurrency control for data writes.  | No built-in concurrency control for writes.             |\n",
    "| **Metadata Management**       | Maintains metadata for improved reliability.     | Limited metadata management compared to Delta.          |\n",
    "| **Data Storage Optimization** | Provides features like data compaction.          | Stores data efficiently but lacks Delta features.       |\n",
    "| **Compatibility with Spark**  | Designed for seamless integration with Spark.    | Can be used with Spark but lacks Delta features.        |\n",
    "| **Performance Optimization**  | Optimized for high-performance read and write.   | Efficient storage but may lack Delta's features.        |\n",
    "| **Open Source**               | Open-source Delta Lake is available on GitHub.   | Parquet is an open standard but lacks Delta's features. |\n",
    "| **Use Cases**                 | Best suited for data lakes, data engineering.    | Suitable for efficient storage and processing.          |\n"
   ]
  },
  {
   "cell_type": "markdown",
   "metadata": {},
   "source": [
    "### DataFrameWriter.format(source: str) → pyspark.sql.readwriter.DataFrameWriter\n",
    "\n",
    "Specifies the underlying output data source.\n",
    "\n",
    "#### Parameters\n",
    "\n",
    "    source str\n",
    "    string, name of the data source, e.g. ‘json’, ‘parquet’.\n"
   ]
  },
  {
   "cell_type": "code",
   "execution_count": 7,
   "metadata": {},
   "outputs": [],
   "source": [
    "my_test_data_df.write.format(\"delta\").mode(\"overwrite\").save(\n",
    "    \"./output/my_test_data_df_delta\"\n",
    ")"
   ]
  }
 ],
 "metadata": {
  "kernelspec": {
   "display_name": ".venv",
   "language": "python",
   "name": "python3"
  },
  "language_info": {
   "codemirror_mode": {
    "name": "ipython",
    "version": 3
   },
   "file_extension": ".py",
   "mimetype": "text/x-python",
   "name": "python",
   "nbconvert_exporter": "python",
   "pygments_lexer": "ipython3",
   "version": "3.12.0"
  }
 },
 "nbformat": 4,
 "nbformat_minor": 2
}
