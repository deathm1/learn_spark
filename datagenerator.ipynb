{
 "cells": [
  {
   "cell_type": "code",
   "execution_count": 35,
   "metadata": {},
   "outputs": [],
   "source": [
    "import random\n",
    "import uuid\n",
    "import numpy as np\n",
    "\n",
    "\n",
    "def list_to_2d(input_list, n):\n",
    "    # Using list comprehension to create 2D list\n",
    "    return [input_list[i : i + n] for i in range(0, len(input_list), n)]\n",
    "\n",
    "\n",
    "def generate_random_json_lines():\n",
    "    data = []\n",
    "    for i in range(65365):\n",
    "        time = random.randint(1469501107, 1469501107 + 3600)\n",
    "        action = [\"Open\", \"Close\", \"Click\", \"Scroll\"][random.randint(0, 3)]\n",
    "        data.append(f'{{\"time\":{time}, \"action\":\"{action}\"}}')\n",
    "    return data\n",
    "\n",
    "\n",
    "linesz = generate_random_json_lines()\n",
    "\n",
    "result_2d_list = list_to_2d(linesz, 1000)\n",
    "for subarr in result_2d_list:\n",
    "    open(f\"./datasets/time-series/frag_{uuid.uuid4()}.json\", \"w\").write(\n",
    "        \"\\n\".join(subarr)\n",
    "    )"
   ]
  }
 ],
 "metadata": {
  "kernelspec": {
   "display_name": ".venv",
   "language": "python",
   "name": "python3"
  },
  "language_info": {
   "codemirror_mode": {
    "name": "ipython",
    "version": 3
   },
   "file_extension": ".py",
   "mimetype": "text/x-python",
   "name": "python",
   "nbconvert_exporter": "python",
   "pygments_lexer": "ipython3",
   "version": "3.12.0"
  }
 },
 "nbformat": 4,
 "nbformat_minor": 2
}
