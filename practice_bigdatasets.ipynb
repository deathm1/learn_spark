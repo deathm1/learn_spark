{
 "cells": [
  {
   "cell_type": "markdown",
   "metadata": {},
   "source": [
    "# Libraries\n"
   ]
  },
  {
   "cell_type": "code",
   "execution_count": 1,
   "metadata": {},
   "outputs": [],
   "source": [
    "from delta import configure_spark_with_delta_pip\n",
    "from pyspark.sql import SparkSession\n",
    "from pyspark.sql.functions import col, substring, input_file_name, current_date, year\n",
    "\n",
    "\n",
    "from pyspark.sql.types import (\n",
    "    IntegerType,\n",
    "    LongType,\n",
    "    StructField,\n",
    "    StructType,\n",
    "    DateType,\n",
    "    DoubleType,\n",
    "    StringType,\n",
    "    TimestampType,\n",
    ")"
   ]
  },
  {
   "cell_type": "markdown",
   "metadata": {},
   "source": [
    "# Spark Session\n"
   ]
  },
  {
   "cell_type": "code",
   "execution_count": 2,
   "metadata": {},
   "outputs": [],
   "source": [
    "builder = SparkSession.builder.config(\n",
    "    \"spark.sql.extensions\", \"io.delta.sql.DeltaSparkSessionExtension\"\n",
    ").config(\n",
    "    \"spark.sql.catalog.spark_catalog\",\n",
    "    \"org.apache.spark.sql.delta.catalog.DeltaCatalog\",\n",
    ")\n",
    "spark = configure_spark_with_delta_pip(builder).getOrCreate()"
   ]
  },
  {
   "cell_type": "markdown",
   "metadata": {},
   "source": [
    "# Loading Data into spark\n"
   ]
  },
  {
   "cell_type": "code",
   "execution_count": 6,
   "metadata": {},
   "outputs": [],
   "source": [
    "my_user_schema = StructType(\n",
    "    [\n",
    "        StructField(\"index\", IntegerType(), nullable=False),\n",
    "        StructField(\"organization_id\", StringType(), nullable=False),\n",
    "        StructField(\"name\", StringType(), nullable=False),\n",
    "        StructField(\"website\", StringType(), nullable=False),\n",
    "        StructField(\"country\", StringType(), nullable=False),\n",
    "        StructField(\"description\", StringType(), nullable=False),\n",
    "        StructField(\"founded\", IntegerType(), nullable=False),\n",
    "        StructField(\"industry\", StringType(), nullable=False),\n",
    "        StructField(\"employee_no\", IntegerType(), nullable=False),\n",
    "    ]\n",
    ")\n",
    "\n",
    "users_df = (\n",
    "    spark.read.option(\"header\", True)\n",
    "    .schema(my_user_schema)\n",
    "    .csv(\"./datasets/organizations-2000000.csv\")\n",
    ")\n",
    "\n",
    "\n",
    "click_data_schema = StructType(\n",
    "    [\n",
    "        StructField(\"session_id\", IntegerType(), nullable=False),\n",
    "        StructField(\"IPID\", IntegerType(), nullable=False),\n",
    "        StructField(\"timestamp\", TimestampType(), nullable=False),\n",
    "        StructField(\"VHOST\", StringType(), nullable=False),\n",
    "        StructField(\"URL_FILE\", StringType(), nullable=False),\n",
    "        StructField(\"PAGE_NAME\", StringType(), nullable=False),\n",
    "        StructField(\"REF_URL_category\", StringType(), nullable=False),\n",
    "        StructField(\"page_load_error\", IntegerType(), nullable=False),\n",
    "        StructField(\"page_action_detail\", StringType(), nullable=False),\n",
    "        StructField(\"tip\", StringType(), nullable=False),\n",
    "        StructField(\"service_detail\", StringType(), nullable=False),\n",
    "        StructField(\"xps_info\", StringType(), nullable=False),\n",
    "        StructField(\"page_action_detail_EN\", StringType(), nullable=False),\n",
    "        StructField(\"service_detail_EN\", StringType(), nullable=False),\n",
    "        StructField(\"tip_EN\", StringType(), nullable=False),\n",
    "    ]\n",
    ")\n",
    "\n",
    "click_data_df = (\n",
    "    spark.read.option(\"header\", True)\n",
    "    .option(\"delimiter\", \";\")\n",
    "    .schema(click_data_schema)\n",
    "    .csv(\"./datasets/BPI2016_Clicks_NOT_Logged_In.csv\")\n",
    ")"
   ]
  },
  {
   "cell_type": "code",
   "execution_count": 17,
   "metadata": {},
   "outputs": [
    {
     "name": "stdout",
     "output_type": "stream",
     "text": [
      "+-----------------------+\n",
      "|min(timestamp)         |\n",
      "+-----------------------+\n",
      "|2015-09-08 09:28:54.777|\n",
      "+-----------------------+\n",
      "\n"
     ]
    }
   ],
   "source": [
    "click_data_df.limit(100).agg({\"timestamp\": \"min\"}).show(truncate=False)"
   ]
  },
  {
   "cell_type": "code",
   "execution_count": null,
   "metadata": {},
   "outputs": [],
   "source": [
    "{}"
   ]
  }
 ],
 "metadata": {
  "kernelspec": {
   "display_name": ".venv",
   "language": "python",
   "name": "python3"
  },
  "language_info": {
   "codemirror_mode": {
    "name": "ipython",
    "version": 3
   },
   "file_extension": ".py",
   "mimetype": "text/x-python",
   "name": "python",
   "nbconvert_exporter": "python",
   "pygments_lexer": "ipython3",
   "version": "3.12.0"
  }
 },
 "nbformat": 4,
 "nbformat_minor": 2
}
